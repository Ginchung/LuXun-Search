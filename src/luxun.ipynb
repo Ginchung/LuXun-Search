{
 "cells": [
  {
   "cell_type": "code",
   "execution_count": 1,
   "metadata": {},
   "outputs": [
    {
     "data": {
      "text/html": [
       "<h2>Articles of Lu'Xun Search Program</h2>\n",
       "<p>By <a href='https://github.com/ginchung'>Ginchung@Github</a><br/>On May 8th, 2019@Hefei<br/></p>\n",
       "<h3>转载请标明出处：本Notebook使用MIT许可(MIT License)</h3>\n",
       "<h3>Dependencies：</h3><p>Python3 Platform<br>Whoosh&nbsp;(检索)<br>Jieba&nbsp;(用于分词)<br>Ac-heron Depo: luxun&nbsp;\n",
       "<a href=\"https://github.com/Ac-heron/luxun\">鲁迅文集相关资料</a></p>\n",
       "<h3>如果需要直接使用，请直接运行最后一个Cell<br>Welcome to STAR ME!</h3>"
      ],
      "text/plain": [
       "<IPython.core.display.HTML object>"
      ]
     },
     "metadata": {},
     "output_type": "display_data"
    }
   ],
   "source": [
    "from IPython.core.display import display, HTML\n",
    "text='''<h2>Articles of Lu\\'Xun Search Program</h2>\n",
    "<p>By <a href='https://github.com/ginchung'>Ginchung@Github</a><br/>On May 8th, 2019@Hefei<br/></p>\n",
    "<h3>转载请标明出处：本Notebook使用MIT许可(MIT License)</h3>\n",
    "<h3>Dependencies：</h3><p>Python3 Platform<br>Whoosh&nbsp;(检索)<br>Jieba&nbsp;(用于分词)<br>Ac-heron Depo: luxun&nbsp;\n",
    "<a href=\"https://github.com/Ac-heron/luxun\">鲁迅文集相关资料</a></p>\n",
    "<h3>如果需要直接使用，请直接运行最后一个Cell<br>Welcome to STAR ME!</h3>'''\n",
    "display(HTML(text))"
   ]
  },
  {
   "cell_type": "code",
   "execution_count": 2,
   "metadata": {},
   "outputs": [
    {
     "name": "stdout",
     "output_type": "stream",
     "text": [
      "文章数量有：306篇\n"
     ]
    }
   ],
   "source": [
    "#coding='utf-8'\n",
    "# 文章保存的根目录\n",
    "ARTICLE_LOCATION = 'article'\n",
    "\n",
    "import os\n",
    "articles=[]\n",
    "dirs = os.listdir(ARTICLE_LOCATION)\n",
    "for ARTICLE_DIR in dirs:\n",
    "    # 在文章的根目录下寻找发表的文集名目录\n",
    "    NAME_ARR=os.listdir('%s/%s'%(ARTICLE_LOCATION,ARTICLE_DIR))\n",
    "    for name in NAME_ARR:\n",
    "        # 文件名包含“简介”或者“目录”二字，不是鲁迅作\n",
    "        if '简介' not in name and '目录' not in name:\n",
    "            articles.append('%s/%s/%s'%(ARTICLE_LOCATION,ARTICLE_DIR,name))\n",
    "print('文章数量有：%d篇'%len(articles))"
   ]
  },
  {
   "cell_type": "code",
   "execution_count": 3,
   "metadata": {},
   "outputs": [],
   "source": [
    "# 代码快速实现参考：https://cloud.tencent.com/developer/article/1374967\n",
    "\n",
    "import os\n",
    "from whoosh.index import create_in\n",
    "from whoosh.fields import *\n",
    "from jieba.analyse import ChineseAnalyzer\n",
    "import json\n",
    "\n",
    "# 使用结巴中文分词\n",
    "analyzer = ChineseAnalyzer()\n",
    "\n",
    "# 创建schema, stored为True表示能够被检索\n",
    "schema = Schema(title=TEXT(stored=True, analyzer=analyzer), path=ID(stored=False),content=TEXT(stored=True, analyzer=analyzer))\n",
    "\n",
    "# 存储schema信息至'indexdir'目录下\n",
    "ix_path = 'indexdir/'\n",
    "ix_name = 'luxun_index_name'\n",
    "\n",
    "if not os.path.exists(ix_path):\n",
    "    os.mkdir(ix_path)\n",
    "ix = create_in(ix_path, schema,indexname=ix_name)\n",
    "ix.close()"
   ]
  },
  {
   "cell_type": "code",
   "execution_count": 4,
   "metadata": {
    "scrolled": true
   },
   "outputs": [
    {
     "name": "stderr",
     "output_type": "stream",
     "text": [
      "Building prefix dict from the default dictionary ...\n",
      "Loading model from cache C:\\Users\\Lithium\\AppData\\Local\\Temp\\jieba.cache\n",
      "Loading model cost 0.772 seconds.\n",
      "Prefix dict has been built succesfully.\n"
     ]
    },
    {
     "name": "stdout",
     "output_type": "stream",
     "text": [
      "已引入文章：article/三闲集/“皇汉医学”.md\n",
      "已引入文章：article/三闲集/“醉眼”中的朦胧.md\n",
      "已引入文章：article/三闲集/“革命军马前卒”和“落伍者”.md\n",
      "已引入文章：article/三闲集/《吾国征俄战史之一页》.md\n",
      "已引入文章：article/三闲集/《小彼得》译本序.md\n",
      "已引入文章：article/三闲集/《近代世界短篇小说集》小引.md\n",
      "已引入文章：article/三闲集/书籍和财色.md\n",
      "已引入文章：article/三闲集/匪笔三篇.md\n",
      "已引入文章：article/三闲集/叶永蓁作《小小十年》小引.md\n",
      "已引入文章：article/三闲集/吊与贺.md\n",
      "已引入文章：article/三闲集/在钟楼上（夜记之二）.md\n",
      "已引入文章：article/三闲集/太平歌诀.md\n",
      "已引入文章：article/三闲集/头.md\n",
      "已引入文章：article/三闲集/序言.md\n",
      "已引入文章：article/三闲集/怎么写（夜记之一）.md\n",
      "已引入文章：article/三闲集/我和《语丝》的始终.md\n",
      "已引入文章：article/三闲集/我的态度气量和年纪.md\n",
      "已引入文章：article/三闲集/扁.md\n",
      "已引入文章：article/三闲集/文坛的掌故（并徐匀来信）.md\n",
      "已引入文章：article/三闲集/文学的阶级性（并恺良来信）.md\n",
      "已引入文章：article/三闲集/文艺与革命（并冬芬来信）.md\n",
      "已引入文章：article/三闲集/新月社批评家的任务.md\n",
      "已引入文章：article/三闲集/无声的中国.md\n",
      "已引入文章：article/三闲集/某笔两篇.md\n",
      "已引入文章：article/三闲集/柔石作《二月》小引.md\n",
      "已引入文章：article/三闲集/流氓的变迁.md\n",
      "已引入文章：article/三闲集/现今的新文学的概观.md\n",
      "已引入文章：article/三闲集/路.md\n",
      "已引入文章：article/三闲集/辞顾颉刚教授令“候审”（并来信）.md\n",
      "已引入文章：article/三闲集/述香港恭祝圣诞.md\n",
      "已引入文章：article/三闲集/通信（并Ｙ来信）.md\n",
      "已引入文章：article/三闲集/铲共大观.md\n",
      "已引入文章：article/三闲集/革命咖啡店.md\n",
      "已引入文章：article/三闲集/鲁迅译著书目.md\n",
      "已引入文章：article/二心集/“丧家的”“资本家的乏走狗”.md\n",
      "已引入文章：article/二心集/“友邦惊诧”论.md\n",
      "已引入文章：article/二心集/“好政府主义”.md\n",
      "已引入文章：article/二心集/“智识劳动者”万岁.md\n",
      "已引入文章：article/二心集/“民族主义文学”的任务和运命.md\n",
      "已引入文章：article/二心集/“硬译”与“文学的阶级性”.md\n",
      "已引入文章：article/二心集/《夏娃日记》小引.md\n",
      "已引入文章：article/二心集/《艺术论》译本序.md\n",
      "已引入文章：article/二心集/《进化和退化》小引.md\n",
      "已引入文章：article/二心集/《野草》英文译本序.md\n",
      "已引入文章：article/二心集/一八艺社习作展览会小引.md\n",
      "已引入文章：article/二心集/上海文艺之一瞥.md\n",
      "已引入文章：article/二心集/中华民国的新“堂·吉诃德”们.md\n",
      "已引入文章：article/二心集/中国无产阶级革命文学和前驱的血.md\n",
      "已引入文章：article/二心集/习惯与改革.md\n",
      "已引入文章：article/二心集/以脚报国.md\n",
      "已引入文章：article/二心集/做古文和做好人的秘诀.md\n",
      "已引入文章：article/二心集/关于《唐三藏取经诗话》的版本.md\n",
      "已引入文章：article/二心集/关于小说题材的通信（并Ｙ及Ｔ来信）.md\n",
      "已引入文章：article/二心集/关于翻译的通信（并ＪＫ来信）.md\n",
      "已引入文章：article/二心集/再来一条“顺”的翻译.md\n",
      "已引入文章：article/二心集/几条“顺”的翻译.md\n",
      "已引入文章：article/二心集/唐朝的钉梢.md\n",
      "已引入文章：article/二心集/宣传与做戏.md\n",
      "已引入文章：article/二心集/对于左翼作家联盟的意见.md\n",
      "已引入文章：article/二心集/序言.md\n",
      "已引入文章：article/二心集/张资平氏的“小说学”.md\n",
      "已引入文章：article/二心集/我们要批评家.md\n",
      "已引入文章：article/二心集/新的“女将”.md\n",
      "已引入文章：article/二心集/柔石小传.md\n",
      "已引入文章：article/二心集/沉滓的泛起.md\n",
      "已引入文章：article/二心集/现代电影与有产阶级（译文，并附记）.md\n",
      "已引入文章：article/二心集/知难行难.md\n",
      "已引入文章：article/二心集/答中学生杂志社问.md\n",
      "已引入文章：article/二心集/答北斗杂志社问.md\n",
      "已引入文章：article/二心集/答文艺新闻社问.md\n",
      "已引入文章：article/二心集/非革命的急进革命论者.md\n",
      "已引入文章：article/二心集/风马牛.md\n",
      "已引入文章：article/二心集/黑暗中国的文艺界的现状.md\n",
      "已引入文章：article/华盖集/“公理”的把戏.md\n",
      "已引入文章：article/华盖集/“碰壁”之余.md\n",
      "已引入文章：article/华盖集/“碰壁”之后.md\n",
      "已引入文章：article/华盖集/北京通信.md\n",
      "已引入文章：article/华盖集/十四年的“读经”.md\n",
      "已引入文章：article/华盖集/后记.md\n",
      "已引入文章：article/华盖集/咬文嚼字.md\n",
      "已引入文章：article/华盖集/咬文嚼字2.md\n",
      "已引入文章：article/华盖集/夏三虫.md\n",
      "已引入文章：article/华盖集/导师.md\n",
      "已引入文章：article/华盖集/并非闲话.md\n",
      "已引入文章：article/华盖集/并非闲话（三）.md\n",
      "已引入文章：article/华盖集/并非闲话（二）.md\n",
      "已引入文章：article/华盖集/忽然想到1.md\n",
      "已引入文章：article/华盖集/忽然想到2.md\n",
      "已引入文章：article/华盖集/忽然想到3.md\n",
      "已引入文章：article/华盖集/忽然想到4.md\n",
      "已引入文章：article/华盖集/我的“籍”和“系”.md\n",
      "已引入文章：article/华盖集/我观北大.md\n",
      "已引入文章：article/华盖集/战士和苍蝇.md\n",
      "已引入文章：article/华盖集/杂感.md\n",
      "已引入文章：article/华盖集/牺牲谟.md\n",
      "已引入文章：article/华盖集/碎话.md\n",
      "已引入文章：article/华盖集/答KS君.md\n",
      "已引入文章：article/华盖集/补白.md\n",
      "已引入文章：article/华盖集/论辩的魂灵.md\n",
      "已引入文章：article/华盖集/评心雕龙.md\n",
      "已引入文章：article/华盖集/这个与那个.md\n",
      "已引入文章：article/华盖集/这回是“多数”的把戏.md\n",
      "已引入文章：article/华盖集/通讯.md\n",
      "已引入文章：article/华盖集/长城.md\n",
      "已引入文章：article/华盖集/青年必读书.md\n",
      "已引入文章：article/华盖集/题记.md\n",
      "已引入文章：article/华盖集续编/一点比喻.md\n",
      "已引入文章：article/华盖集续编/上海通信.md\n",
      "已引入文章：article/华盖集续编/不是信.md\n",
      "已引入文章：article/华盖集续编/为半农题记《何典》后作.md\n",
      "已引入文章：article/华盖集续编/再来一次.md\n",
      "已引入文章：article/华盖集续编/古书与白话.md\n",
      "已引入文章：article/华盖集续编/可惨与可笑.md\n",
      "已引入文章：article/华盖集续编/后记.md\n",
      "已引入文章：article/华盖集续编/如此“讨赤”.md\n",
      "已引入文章：article/华盖集续编/学界的三魂.md\n",
      "已引入文章：article/华盖集续编/小引.md\n",
      "已引入文章：article/华盖集续编/我还不能“带住”.md\n",
      "已引入文章：article/华盖集续编/新的蔷薇.md\n",
      "已引入文章：article/华盖集续编/无花的蔷薇.md\n",
      "已引入文章：article/华盖集续编/无花的蔷薇之三.md\n",
      "已引入文章：article/华盖集续编/无花的蔷薇之二.md\n",
      "已引入文章：article/华盖集续编/无题.md\n",
      "已引入文章：article/华盖集续编/有趣的消息.md\n",
      "已引入文章：article/华盖集续编/死地.md\n",
      "已引入文章：article/华盖集续编/空谈.md\n",
      "已引入文章：article/华盖集续编/记“发薪”.md\n",
      "已引入文章：article/华盖集续编/记念刘和珍君.md\n",
      "已引入文章：article/华盖集续编/记谈话.md\n",
      "已引入文章：article/华盖集续编/谈皇帝.md\n",
      "已引入文章：article/华盖集续编/送灶日漫笔.md\n",
      "已引入文章：article/华盖集续编/马上支日记.md\n",
      "已引入文章：article/华盖集续编/马上日记.md\n",
      "已引入文章：article/华盖集续编/马上日记之二.md\n",
      "已引入文章：article/华盖集续编的续编/《阿Q正传》的成因.md\n",
      "已引入文章：article/华盖集续编的续编/关于《三藏取经记》等.md\n",
      "已引入文章：article/华盖集续编的续编/厦门通信.md\n",
      "已引入文章：article/华盖集续编的续编/厦门通信（三）.md\n",
      "已引入文章：article/华盖集续编的续编/厦门通信（二）.md\n",
      "已引入文章：article/华盖集续编的续编/所谓“思想界先驱者”鲁迅启事.md\n",
      "已引入文章：article/华盖集续编的续编/海上通信.md\n",
      "已引入文章：article/呐喊/《呐喊》自序.md\n",
      "已引入文章：article/呐喊/一件小事.md\n",
      "已引入文章：article/呐喊/兔和猫.md\n",
      "已引入文章：article/呐喊/头发的故事.md\n",
      "已引入文章：article/呐喊/孔乙己.md\n",
      "已引入文章：article/呐喊/故乡.md\n",
      "已引入文章：article/呐喊/明天.md\n",
      "已引入文章：article/呐喊/狂人日记.md\n",
      "已引入文章：article/呐喊/白光.md\n",
      "已引入文章：article/呐喊/社戏.md\n",
      "已引入文章：article/呐喊/端午节.md\n",
      "已引入文章：article/呐喊/药.md\n",
      "已引入文章：article/呐喊/阿Ｑ正传.md\n",
      "已引入文章：article/呐喊/风波.md\n",
      "已引入文章：article/呐喊/鸭的喜剧.md\n",
      "已引入文章：article/坟/从胡须说到牙齿.md\n",
      "已引入文章：article/坟/再论雷峰塔的倒掉.md\n",
      "已引入文章：article/坟/写在《坟》后面.md\n",
      "已引入文章：article/坟/坚壁清野主义.md\n",
      "已引入文章：article/坟/娜拉走后怎样.md\n",
      "已引入文章：article/坟/寡妇主义.md\n",
      "已引入文章：article/坟/我之节烈观.md\n",
      "已引入文章：article/坟/我们怎样做父亲.md\n",
      "已引入文章：article/坟/春末闲谈.md\n",
      "已引入文章：article/坟/未有天才之前.md\n",
      "已引入文章：article/坟/杂亿.md\n",
      "已引入文章：article/坟/灯下漫笔.md\n",
      "已引入文章：article/坟/看镜有感.md\n",
      "已引入文章：article/坟/论“他妈的！”.md\n",
      "已引入文章：article/坟/论“费厄泼赖”应该缓行.md\n",
      "已引入文章：article/坟/论照相之类.md\n",
      "已引入文章：article/坟/论睁了眼看.md\n",
      "已引入文章：article/坟/论雷峰塔的倒掉.md\n",
      "已引入文章：article/坟/说胡须.md\n",
      "已引入文章：article/坟/题记.md\n",
      "已引入文章：article/彷徨/伤逝.md\n",
      "已引入文章：article/彷徨/在酒楼上.md\n",
      "已引入文章：article/彷徨/孤独者.md\n",
      "已引入文章：article/彷徨/幸福的家庭.md\n",
      "已引入文章：article/彷徨/弟兄.md\n",
      "已引入文章：article/彷徨/示众.md\n",
      "已引入文章：article/彷徨/祝福.md\n",
      "已引入文章：article/彷徨/离婚.md\n",
      "已引入文章：article/彷徨/肥皂.md\n",
      "已引入文章：article/彷徨/长明灯.md\n",
      "已引入文章：article/彷徨/高老夫子.md\n",
      "已引入文章：article/故事新编/出关.md\n",
      "已引入文章：article/故事新编/奔月.md\n",
      "已引入文章：article/故事新编/序言.md\n",
      "已引入文章：article/故事新编/理水.md\n",
      "已引入文章：article/故事新编/补天.md\n",
      "已引入文章：article/故事新编/起死.md\n",
      "已引入文章：article/故事新编/采薇.md\n",
      "已引入文章：article/故事新编/铸剑.md\n",
      "已引入文章：article/故事新编/非攻.md\n",
      "已引入文章：article/朝花夕拾/《朝花夕拾》小引.md\n",
      "已引入文章：article/朝花夕拾/二十四孝图.md\n",
      "已引入文章：article/朝花夕拾/五猖会.md\n",
      "已引入文章：article/朝花夕拾/从百草园到三味书屋.md\n",
      "已引入文章：article/朝花夕拾/后记.md\n",
      "已引入文章：article/朝花夕拾/无常.md\n",
      "已引入文章：article/朝花夕拾/父亲的病.md\n",
      "已引入文章：article/朝花夕拾/狗·猫·鼠.md\n",
      "已引入文章：article/朝花夕拾/琐记.md\n",
      "已引入文章：article/朝花夕拾/范爱农.md\n",
      "已引入文章：article/朝花夕拾/藤野先生.md\n",
      "已引入文章：article/朝花夕拾/阿长与山海经.md\n",
      "已引入文章：article/热风/“一是之学说”.md\n",
      "已引入文章：article/热风/“以震其艰深”.md\n",
      "已引入文章：article/热风/三十七.md\n",
      "已引入文章：article/热风/三十三.md\n",
      "已引入文章：article/热风/三十五.md\n",
      "已引入文章：article/热风/三十八.md\n",
      "已引入文章：article/热风/三十六.md\n",
      "已引入文章：article/热风/不懂的音译.md\n",
      "已引入文章：article/热风/为“俄国歌剧团”.md\n",
      "已引入文章：article/热风/事实胜于雄辩.md\n",
      "已引入文章：article/热风/五十七现在的屠杀者.md\n",
      "已引入文章：article/热风/五十三.md\n",
      "已引入文章：article/热风/五十九“圣武”.md\n",
      "已引入文章：article/热风/五十八人心很古.md\n",
      "已引入文章：article/热风/五十六“来了”.md\n",
      "已引入文章：article/热风/五十四.md\n",
      "已引入文章：article/热风/估《学衡》.md\n",
      "已引入文章：article/热风/儿歌的“反动”.md\n",
      "已引入文章：article/热风/六十一不满.md\n",
      "已引入文章：article/热风/六十三“与幼者”.md\n",
      "已引入文章：article/热风/六十二恨恨而死.md\n",
      "已引入文章：article/热风/六十五暴君的臣民.md\n",
      "已引入文章：article/热风/六十六生命的路.md\n",
      "已引入文章：article/热风/六十四有无相通.md\n",
      "已引入文章：article/热风/即小见大.md\n",
      "已引入文章：article/热风/反对“含泪”的批评家.md\n",
      "已引入文章：article/热风/四十.md\n",
      "已引入文章：article/热风/四十一.md\n",
      "已引入文章：article/热风/四十七.md\n",
      "已引入文章：article/热风/四十三.md\n",
      "已引入文章：article/热风/四十九.md\n",
      "已引入文章：article/热风/四十二.md\n",
      "已引入文章：article/热风/四十八.md\n",
      "已引入文章：article/热风/四十六.md\n",
      "已引入文章：article/热风/对于批评家的希望.md\n",
      "已引入文章：article/热风/所谓“国学”.md\n",
      "已引入文章：article/热风/无题.md\n",
      "已引入文章：article/热风/智识即罪恶.md\n",
      "已引入文章：article/热风/望勿“纠正”.md\n",
      "已引入文章：article/热风/随感录三十九.md\n",
      "已引入文章：article/热风/随感录二十五.md\n",
      "已引入文章：article/热风/题记.md\n",
      "已引入文章：article/而已集/“公理”之所在.md\n",
      "已引入文章：article/而已集/“意表之外”.md\n",
      "已引入文章：article/而已集/《尘影》题辞.md\n",
      "已引入文章：article/而已集/再谈香港.md\n",
      "已引入文章：article/而已集/写在《劳动问题》之前.md\n",
      "已引入文章：article/而已集/卢梭和胃口.md\n",
      "已引入文章：article/而已集/反“漫谈”.md\n",
      "已引入文章：article/而已集/可恶罪.md\n",
      "已引入文章：article/而已集/小杂感.md\n",
      "已引入文章：article/而已集/当陶元庆君的绘画展览时.md\n",
      "已引入文章：article/而已集/忧“天乳”.md\n",
      "已引入文章：article/而已集/扣丝杂感.md\n",
      "已引入文章：article/而已集/拟豫言.md\n",
      "已引入文章：article/而已集/文学和出汗.md\n",
      "已引入文章：article/而已集/文艺和革命.md\n",
      "已引入文章：article/而已集/新时代的放债法.md\n",
      "已引入文章：article/而已集/略论中国人的脸.md\n",
      "已引入文章：article/而已集/略谈香港.md\n",
      "已引入文章：article/而已集/答有恒先生.md\n",
      "已引入文章：article/而已集/读书杂谈.md\n",
      "已引入文章：article/而已集/谈“激烈”.md\n",
      "已引入文章：article/而已集/谈所谓“大内档案”.md\n",
      "已引入文章：article/而已集/辞“大义”.md\n",
      "已引入文章：article/而已集/通信.md\n",
      "已引入文章：article/而已集/附录：大衍发微.md\n",
      "已引入文章：article/而已集/革“首领”.md\n",
      "已引入文章：article/而已集/革命文学.md\n",
      "已引入文章：article/而已集/革命时代的文学.md\n",
      "已引入文章：article/而已集/题辞.md\n",
      "已引入文章：article/而已集/魏晋风度及文章与药及酒之关系.md\n",
      "已引入文章：article/而已集/黄花节的杂感.md\n",
      "已引入文章：article/野草/《野草》英文译本序.md\n",
      "已引入文章：article/野草/《野草》题辞.md\n",
      "已引入文章：article/野草/一觉.md\n",
      "已引入文章：article/野草/墓碣文.md\n",
      "已引入文章：article/野草/复仇.md\n",
      "已引入文章：article/野草/复仇〔其二〕.md\n",
      "已引入文章：article/野草/失掉的好地狱.md\n",
      "已引入文章：article/野草/好的故事.md\n",
      "已引入文章：article/野草/希望.md\n",
      "已引入文章：article/野草/影的告别.md\n",
      "已引入文章：article/野草/我的失恋.md\n",
      "已引入文章：article/野草/死后.md\n",
      "已引入文章：article/野草/死火.md\n",
      "已引入文章：article/野草/求乞者.md\n",
      "已引入文章：article/野草/淡淡的血痕中.md\n",
      "已引入文章：article/野草/狗的驳诘.md\n",
      "已引入文章：article/野草/秋夜.md\n",
      "已引入文章：article/野草/立论.md\n",
      "已引入文章：article/野草/聪明人和傻子和奴才.md\n",
      "已引入文章：article/野草/腊叶.md\n",
      "已引入文章：article/野草/过客.md\n",
      "已引入文章：article/野草/这样的战士.md\n",
      "已引入文章：article/野草/雪.md\n",
      "已引入文章：article/野草/颓败线的颤动.md\n"
     ]
    },
    {
     "name": "stdout",
     "output_type": "stream",
     "text": [
      "已引入文章：article/野草/风筝.md\n",
      "索引已建立好\n"
     ]
    }
   ],
   "source": [
    "from whoosh.filedb.filestore import FileStorage\n",
    "import re\n",
    "\n",
    "# Replace pattern\n",
    "rpp=re.compile('[\\u3000※·\\n\\r〔〕 ]')\n",
    "\n",
    "storage = FileStorage(ix_path)  #idx_path 为索引路径\n",
    "ix = storage.open_index(indexname=ix_name)\n",
    "# 按照schema定义信息，增加需要建立索引的文档\n",
    "# 注意：字符串格式需要为unicode格式\n",
    "with ix.writer() as w:\n",
    "    for article in articles:\n",
    "        with open(article,'r',encoding='utf-8') as f:\n",
    "            arr=f.read()\n",
    "        subs=re.split(rpp,arr)\n",
    "        art=''.join(subs)\n",
    "        length=len(art)\n",
    "        ind=art[::-1].find('〔１〕')\n",
    "        if ind>0:\n",
    "            art=art[:length-ind-1]\n",
    "            art=re.split('[\\d]',art)\n",
    "            art=''.join(art[1:])\n",
    "        name_arr=article.split('/')\n",
    "        w.add_document(title='集名：%s 篇名：%s'%(name_arr[1],name_arr[-1][:-3]),content=art)\n",
    "        print(\"已引入文章：%s\"%article)\n",
    "        \n",
    "ix.close()\n",
    "print(\"索引已建立好\")"
   ]
  },
  {
   "cell_type": "code",
   "execution_count": 5,
   "metadata": {},
   "outputs": [
    {
     "name": "stdout",
     "output_type": "stream",
     "text": [
      "请输入你要检索的文字：拿衣服\n"
     ]
    },
    {
     "data": {
      "text/html": [
       "<h3>集名：故事新编 篇名：起死</h3>"
      ],
      "text/plain": [
       "<IPython.core.display.HTML object>"
      ]
     },
     "metadata": {},
     "output_type": "display_data"
    },
    {
     "data": {
      "text/html": [
       "专想<b class=\"match term0\">衣服</b>罢，<b class=\"match term0\">衣服</b>是可有可无的，也许是有<b class=\"match term0\">衣服</b>对，也许是没有<b class=\"match term0\">衣服</b>对。鸟有羽，兽有毛，然而王瓜茄子赤条条...看着庄子，）还是您老富裕一点，赏他一件<b class=\"match term0\">衣服</b>，给他遮遮羞……庄子——那自然可以的，<b class=\"match term0\">衣服</b>本来并非我有。不过我这回要去见楚王，不穿...巡士——你探去就是了。汉子——我没有<b class=\"match term0\">衣服</b>呀。巡士——没有<b class=\"match term0\">衣服</b>就不能探亲吗？汉子——你放走了他。现在你又想溜走"
      ],
      "text/plain": [
       "<IPython.core.display.HTML object>"
      ]
     },
     "metadata": {},
     "output_type": "display_data"
    },
    {
     "name": "stdout",
     "output_type": "stream",
     "text": [
      "相似度评分：9.38\n",
      "文章序号：192\n"
     ]
    },
    {
     "data": {
      "text/html": [
       "<h3>集名：而已集 篇名：再谈香港</h3>"
      ],
      "text/plain": [
       "<IPython.core.display.HTML object>"
      ]
     },
     "metadata": {},
     "output_type": "display_data"
    },
    {
     "data": {
      "text/html": [
       "盐煮花生的纸包用指头挖了一个洞。接着又<b class=\"match term1\">拿</b>起一盒蚊烟香。“这是什么？”“蚊烟香。盒子上不写着...这时却使我非常为难，那第二只里并不是<b class=\"match term0\">衣服</b>或书籍，是极其零碎的东西：照片，钞本，自己的译稿...忽又去看了一回手巾包。我于是大悟，决心<b class=\"match term1\">拿</b>起手巾包里十元整封的角子，给他看了一看。他回头"
      ],
      "text/plain": [
       "<IPython.core.display.HTML object>"
      ]
     },
     "metadata": {},
     "output_type": "display_data"
    },
    {
     "name": "stdout",
     "output_type": "stream",
     "text": [
      "相似度评分：8.47\n",
      "文章序号：253\n"
     ]
    },
    {
     "data": {
      "text/html": [
       "<h3>集名：野草 篇名：复仇〔其二〕</h3>"
      ],
      "text/plain": [
       "<IPython.core.display.HTML object>"
      ]
     },
     "metadata": {},
     "output_type": "display_data"
    },
    {
     "data": {
      "text/html": [
       "兵丁们给他穿上紫袍，戴上荆冠，庆贺他；又<b class=\"match term1\">拿</b>一根苇子打他的头，吐他，屈膝拜他；戏弄完了，就给他...紫袍，仍穿他自己的<b class=\"match term0\">衣服</b>。看哪，他们打他的头，吐他，拜他……他不肯喝那用没药"
      ],
      "text/plain": [
       "<IPython.core.display.HTML object>"
      ]
     },
     "metadata": {},
     "output_type": "display_data"
    },
    {
     "name": "stdout",
     "output_type": "stream",
     "text": [
      "相似度评分：8.06\n",
      "文章序号：286\n"
     ]
    },
    {
     "data": {
      "text/html": [
       "<h3>集名：呐喊 篇名：药</h3>"
      ],
      "text/plain": [
       "<IPython.core.display.HTML object>"
      ]
     },
     "metadata": {},
     "output_type": "display_data"
    },
    {
     "data": {
      "text/html": [
       "灶下，商量了一会；华大妈便出去了，不多时，<b class=\"match term1\">拿</b>着一片老荷叶回来，摊在桌上。老栓也打开灯笼罩...好了。”小栓撮起这黑东西，看了一会，似乎<b class=\"match term1\">拿</b>着自己的性命一般，心里说不出的奇怪。十分小心...我可是这一回一点没有得到好处；连剥下来的<b class=\"match term0\">衣服</b>，都给管牢的红眼睛阿义<b class=\"match term1\">拿</b>去了。——第一要算我们栓叔运气；第二是夏三爷赏了二十"
      ],
      "text/plain": [
       "<IPython.core.display.HTML object>"
      ]
     },
     "metadata": {},
     "output_type": "display_data"
    },
    {
     "name": "stdout",
     "output_type": "stream",
     "text": [
      "相似度评分：7.92\n",
      "文章序号：152\n"
     ]
    },
    {
     "data": {
      "text/html": [
       "<h3>集名：故事新编 篇名：非攻</h3>"
      ],
      "text/plain": [
       "<IPython.core.display.HTML object>"
      ]
     },
     "metadata": {},
     "output_type": "display_data"
    },
    {
     "data": {
      "text/html": [
       "走是总得今天就走的，”墨子说。“明年再来，<b class=\"match term1\">拿</b>我的书来请楚王看一看。”２１“你还不是讲些行义么？”公输...好像是在翻箱子。不一会，又出来了，手里<b class=\"match term1\">拿</b>着一只木头和竹片做成的喜鹊，交给墨子，口里说道...节用》等篇中，都详载着他对于宫室、<b class=\"match term0\">衣服</b>、饮食、舟车等项的节约的意见。６墨翟和子夏之徒的对话"
      ],
      "text/plain": [
       "<IPython.core.display.HTML object>"
      ]
     },
     "metadata": {},
     "output_type": "display_data"
    },
    {
     "name": "stdout",
     "output_type": "stream",
     "text": [
      "相似度评分：7.24\n",
      "文章序号：195\n"
     ]
    },
    {
     "data": {
      "text/html": [
       "<h3>集名：彷徨 篇名：弟兄</h3>"
      ],
      "text/plain": [
       "<IPython.core.display.HTML object>"
      ]
     },
     "metadata": {},
     "output_type": "display_data"
    },
    {
     "data": {
      "text/html": [
       "他解下枕衣来拭去胸前和背上的冷汗，穿好<b class=\"match term0\">衣服</b>，走向靖甫的房里去时，只见“在白帝城”的邻人正在...两个漆黑的隶书：廿七。伙计送药进来了，还<b class=\"match term1\">拿</b>着一包书。“什么？”靖甫睁开了眼睛，问。“药。”他也从惝恍...先不管它。吃药罢。”他给靖甫服了药，这才<b class=\"match term1\">拿</b>起那包书来看，道，“索士寄来的。一定是你向他去借"
      ],
      "text/plain": [
       "<IPython.core.display.HTML object>"
      ]
     },
     "metadata": {},
     "output_type": "display_data"
    },
    {
     "name": "stdout",
     "output_type": "stream",
     "text": [
      "相似度评分：7.13\n",
      "文章序号：180\n"
     ]
    },
    {
     "data": {
      "text/html": [
       "<h3>集名：故事新编 篇名：理水</h3>"
      ],
      "text/plain": [
       "<IPython.core.display.HTML object>"
      ]
     },
     "metadata": {},
     "output_type": "display_data"
    },
    {
     "data": {
      "text/html": [
       "一些具有代表性的人物为模型的。例如“一个<b class=\"match term1\">拿</b>拄杖的学者”，是暗指“优生学家”潘光旦。潘曾根据...军阀吴佩孚为了“讨赤”，曾经异想天开地<b class=\"match term1\">拿</b>蚩尤来比拟“赤化”，胡说：“草昧初开，部落时代，蚩尤...仪，百兽率舞，百官信谐。”又关于禹的吃喝和<b class=\"match term0\">衣服</b>，《论语泰伯》记有孔丘的话：“子曰：‘禹，吾无间然矣"
      ],
      "text/plain": [
       "<IPython.core.display.HTML object>"
      ]
     },
     "metadata": {},
     "output_type": "display_data"
    },
    {
     "name": "stdout",
     "output_type": "stream",
     "text": [
      "相似度评分：6.88\n",
      "文章序号：190\n"
     ]
    },
    {
     "data": {
      "text/html": [
       "<h3>集名：故事新编 篇名：采薇</h3>"
      ],
      "text/plain": [
       "<IPython.core.display.HTML object>"
      ]
     },
     "metadata": {},
     "output_type": "display_data"
    },
    {
     "data": {
      "text/html": [
       "摘了半衣兜。他还是在溪水里洗了一洗，这才<b class=\"match term1\">拿</b>回来；还是用那烙过松针面的石片，来烤薇菜。叶子...是不坏的。’一面就慢慢的伸开臂膊，要去<b class=\"match term1\">拿</b>石片。可不知道鹿是通灵的东西，它已经知道了人的心思...剥猪猡”旧时上海盗匪抢劫行人，剥夺<b class=\"match term0\">衣服</b>，称为“剥猪猡”。猪猡，江浙一带方言，即猪。２５首阳山"
      ],
      "text/plain": [
       "<IPython.core.display.HTML object>"
      ]
     },
     "metadata": {},
     "output_type": "display_data"
    },
    {
     "name": "stdout",
     "output_type": "stream",
     "text": [
      "相似度评分：6.75\n",
      "文章序号：193\n"
     ]
    },
    {
     "data": {
      "text/html": [
       "<h3>集名：朝花夕拾 篇名：藤野先生</h3>"
      ],
      "text/plain": [
       "<IPython.core.display.HTML object>"
      ]
     },
     "metadata": {},
     "output_type": "display_data"
    },
    {
     "data": {
      "text/html": [
       "颇冷，蚊子却还多，后来用被盖了全身，用<b class=\"match term0\">衣服</b>包了头脸，只留两个鼻孔出气。在这呼吸不息的地方...每个教授的历史。这藤野先生，据说是穿<b class=\"match term0\">衣服</b>太模胡了，有时竟会忘记带领结；冬天是...并且说，此后每一星期要送给他看一回。我<b class=\"match term1\">拿</b>下来打开看时，很吃了一惊，同时也感到一种不安"
      ],
      "text/plain": [
       "<IPython.core.display.HTML object>"
      ]
     },
     "metadata": {},
     "output_type": "display_data"
    },
    {
     "name": "stdout",
     "output_type": "stream",
     "text": [
      "相似度评分：6.49\n",
      "文章序号：206\n"
     ]
    },
    {
     "data": {
      "text/html": [
       "<h3>集名：朝花夕拾 篇名：父亲的病</h3>"
      ],
      "text/plain": [
       "<IPython.core.display.HTML object>"
      ]
     },
     "metadata": {},
     "output_type": "display_data"
    },
    {
     "data": {
      "text/html": [
       "草草地一看，说道“不要紧的”，开一张方，<b class=\"match term1\">拿</b>了一百元就走。那病家似乎很有钱，第二...妇人，说我们不应该空等着。于是给他换<b class=\"match term0\">衣服</b>；又将纸锭和一种什么《高王经》烧成灰"
      ],
      "text/plain": [
       "<IPython.core.display.HTML object>"
      ]
     },
     "metadata": {},
     "output_type": "display_data"
    },
    {
     "name": "stdout",
     "output_type": "stream",
     "text": [
      "相似度评分：5.59\n",
      "文章序号：202\n"
     ]
    }
   ],
   "source": [
    "from IPython.core.display import display, HTML\n",
    "from whoosh.filedb.filestore import FileStorage\n",
    "import json\n",
    "\n",
    "ix_path = 'indexdir/'\n",
    "ix_name = 'luxun_index_name'\n",
    "storage = FileStorage(ix_path)\n",
    "\n",
    "with storage.open_index(indexname=ix_name).searcher() as searcher:\n",
    "    # 检索标题中出现'文档'的文档\n",
    "    results = searcher.find(\"content\",input(\"请输入你要检索的文字：\"))\n",
    "    # 检索出来的第一个结果，数据格式为dict{'title':.., 'content':...}\n",
    "    for r in results:\n",
    "        display(HTML('<h3>'+r.get('title')+'</h3>'))\n",
    "        display(HTML(r.highlights(\"content\")))  \n",
    "        # 高亮标题中的检索词\n",
    "        print('相似度评分：%.2f'%r.score)  \n",
    "        # 准确度分数\n",
    "        print('文章序号：%d'%r.docnum)\n",
    "        \n",
    "        doc = r.fields()\n",
    "        jsondoc = json.dumps(doc, ensure_ascii=False)\n",
    "        # display(jsondoc)  \n",
    "        # 打印出检索出的文档全部内容\n"
   ]
  },
  {
   "cell_type": "code",
   "execution_count": null,
   "metadata": {},
   "outputs": [],
   "source": []
  }
 ],
 "metadata": {
  "kernelspec": {
   "display_name": "Python 3",
   "language": "python",
   "name": "python3"
  },
  "language_info": {
   "codemirror_mode": {
    "name": "ipython",
    "version": 3
   },
   "file_extension": ".py",
   "mimetype": "text/x-python",
   "name": "python",
   "nbconvert_exporter": "python",
   "pygments_lexer": "ipython3",
   "version": "3.6.5"
  }
 },
 "nbformat": 4,
 "nbformat_minor": 2
}
