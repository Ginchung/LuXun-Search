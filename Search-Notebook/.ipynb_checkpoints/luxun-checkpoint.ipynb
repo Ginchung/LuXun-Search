{
 "cells": [
  {
   "cell_type": "code",
   "execution_count": 9,
   "metadata": {},
   "outputs": [
    {
     "data": {
      "text/html": [
       "<h2>Articles of Lu'Xun Search Program</h2>\n",
       "<p>By <a href='https://github.com/ginchung'>Ginchung@Github</a><br/>On May 8th, 2019@Hefei<br/></p>\n",
       "<h3>转载请标明出处：本Notebook使用MIT许可(MIT License)</h3>\n",
       "<h3>Dependencies：</h3><p>Python3 Platform<br>Whoosh&nbsp;(检索)<br>Jieba&nbsp;(用于分词)<br>Ac-heron Depo: luxun&nbsp;\n",
       "<a href=\"https://github.com/Ac-heron/luxun\">鲁迅文集相关资料</a></p>\n",
       "<h3>如果需要直接使用，请直接运行最后一个Cell<br>Welcome STARS ME!</h3>"
      ],
      "text/plain": [
       "<IPython.core.display.HTML object>"
      ]
     },
     "metadata": {},
     "output_type": "display_data"
    }
   ],
   "source": [
    "from IPython.core.display import display, HTML\n",
    "text='''<h2>Articles of Lu\\'Xun Search Program</h2>\n",
    "<p>By <a href='https://github.com/ginchung'>Ginchung@Github</a><br/>On May 8th, 2019@Hefei<br/></p>\n",
    "<h3>转载请标明出处：本Notebook使用MIT许可(MIT License)</h3>\n",
    "<h3>Dependencies：</h3><p>Python3 Platform<br>Whoosh&nbsp;(检索)<br>Jieba&nbsp;(用于分词)<br>Ac-heron Depo: luxun&nbsp;\n",
    "<a href=\"https://github.com/Ac-heron/luxun\">鲁迅文集相关资料</a></p>\n",
    "<h3>如果需要直接使用，请直接运行最后一个Cell<br>Welcome STARS ME!</h3>'''\n",
    "display(HTML(text))"
   ]
  },
  {
   "cell_type": "code",
   "execution_count": 2,
   "metadata": {},
   "outputs": [
    {
     "name": "stdout",
     "output_type": "stream",
     "text": [
      "文章数量有：306篇\n"
     ]
    }
   ],
   "source": [
    "#coding='utf-8'\n",
    "# 文章保存的根目录\n",
    "ARTICLE_LOCATION = 'article'\n",
    "\n",
    "import os\n",
    "articles=[]\n",
    "dirs = os.listdir(ARTICLE_LOCATION)\n",
    "for ARTICLE_DIR in dirs:\n",
    "    # 在文章的根目录下寻找发表的文集名目录\n",
    "    NAME_ARR=os.listdir('%s/%s'%(ARTICLE_LOCATION,ARTICLE_DIR))\n",
    "    for name in NAME_ARR:\n",
    "        # 文件名包含“简介”或者“目录”二字，不是鲁迅作\n",
    "        if '简介' not in name and '目录' not in name:\n",
    "            articles.append('%s/%s/%s'%(ARTICLE_LOCATION,ARTICLE_DIR,name))\n",
    "print('文章数量有：%d篇'%len(articles))"
   ]
  },
  {
   "cell_type": "code",
   "execution_count": 3,
   "metadata": {},
   "outputs": [],
   "source": [
    "# 代码快速实现参考：https://cloud.tencent.com/developer/article/1374967\n",
    "\n",
    "import os\n",
    "from whoosh.index import create_in\n",
    "from whoosh.fields import *\n",
    "from jieba.analyse import ChineseAnalyzer\n",
    "import json\n",
    "\n",
    "# 使用结巴中文分词\n",
    "analyzer = ChineseAnalyzer()\n",
    "\n",
    "# 创建schema, stored为True表示能够被检索\n",
    "schema = Schema(title=TEXT(stored=True, analyzer=analyzer), path=ID(stored=False),content=TEXT(stored=True, analyzer=analyzer))\n",
    "\n",
    "# 存储schema信息至'indexdir'目录下\n",
    "ix_path = 'indexdir/'\n",
    "ix_name = 'luxun_index_name'\n",
    "\n",
    "if not os.path.exists(ix_path):\n",
    "    os.mkdir(ix_path)\n",
    "ix = create_in(ix_path, schema,indexname=ix_name)\n",
    "ix.close()"
   ]
  },
  {
   "cell_type": "code",
   "execution_count": 4,
   "metadata": {
    "scrolled": true
   },
   "outputs": [
    {
     "name": "stderr",
     "output_type": "stream",
     "text": [
      "Building prefix dict from the default dictionary ...\n",
      "Loading model from cache C:\\Users\\Lithium\\AppData\\Local\\Temp\\jieba.cache\n",
      "Loading model cost 0.833 seconds.\n",
      "Prefix dict has been built succesfully.\n"
     ]
    },
    {
     "name": "stdout",
     "output_type": "stream",
     "text": [
      "已引入文章：article/三闲集/“皇汉医学”.md\n",
      "已引入文章：article/三闲集/“醉眼”中的朦胧.md\n",
      "已引入文章：article/三闲集/“革命军马前卒”和“落伍者”.md\n",
      "已引入文章：article/三闲集/《吾国征俄战史之一页》.md\n",
      "已引入文章：article/三闲集/《小彼得》译本序.md\n",
      "已引入文章：article/三闲集/《近代世界短篇小说集》小引.md\n",
      "已引入文章：article/三闲集/书籍和财色.md\n",
      "已引入文章：article/三闲集/匪笔三篇.md\n",
      "已引入文章：article/三闲集/叶永蓁作《小小十年》小引.md\n",
      "已引入文章：article/三闲集/吊与贺.md\n",
      "已引入文章：article/三闲集/在钟楼上（夜记之二）.md\n",
      "已引入文章：article/三闲集/太平歌诀.md\n",
      "已引入文章：article/三闲集/头.md\n",
      "已引入文章：article/三闲集/序言.md\n",
      "已引入文章：article/三闲集/怎么写（夜记之一）.md\n",
      "已引入文章：article/三闲集/我和《语丝》的始终.md\n",
      "已引入文章：article/三闲集/我的态度气量和年纪.md\n",
      "已引入文章：article/三闲集/扁.md\n",
      "已引入文章：article/三闲集/文坛的掌故（并徐匀来信）.md\n",
      "已引入文章：article/三闲集/文学的阶级性（并恺良来信）.md\n",
      "已引入文章：article/三闲集/文艺与革命（并冬芬来信）.md\n",
      "已引入文章：article/三闲集/新月社批评家的任务.md\n",
      "已引入文章：article/三闲集/无声的中国.md\n",
      "已引入文章：article/三闲集/某笔两篇.md\n",
      "已引入文章：article/三闲集/柔石作《二月》小引.md\n",
      "已引入文章：article/三闲集/流氓的变迁.md\n",
      "已引入文章：article/三闲集/现今的新文学的概观.md\n",
      "已引入文章：article/三闲集/路.md\n",
      "已引入文章：article/三闲集/辞顾颉刚教授令“候审”（并来信）.md\n",
      "已引入文章：article/三闲集/述香港恭祝圣诞.md\n",
      "已引入文章：article/三闲集/通信（并Ｙ来信）.md\n",
      "已引入文章：article/三闲集/铲共大观.md\n",
      "已引入文章：article/三闲集/革命咖啡店.md\n",
      "已引入文章：article/三闲集/鲁迅译著书目.md\n",
      "已引入文章：article/二心集/“丧家的”“资本家的乏走狗”.md\n",
      "已引入文章：article/二心集/“友邦惊诧”论.md\n",
      "已引入文章：article/二心集/“好政府主义”.md\n",
      "已引入文章：article/二心集/“智识劳动者”万岁.md\n",
      "已引入文章：article/二心集/“民族主义文学”的任务和运命.md\n",
      "已引入文章：article/二心集/“硬译”与“文学的阶级性”.md\n",
      "已引入文章：article/二心集/《夏娃日记》小引.md\n",
      "已引入文章：article/二心集/《艺术论》译本序.md\n",
      "已引入文章：article/二心集/《进化和退化》小引.md\n",
      "已引入文章：article/二心集/《野草》英文译本序.md\n",
      "已引入文章：article/二心集/一八艺社习作展览会小引.md\n",
      "已引入文章：article/二心集/上海文艺之一瞥.md\n",
      "已引入文章：article/二心集/中华民国的新“堂·吉诃德”们.md\n",
      "已引入文章：article/二心集/中国无产阶级革命文学和前驱的血.md\n",
      "已引入文章：article/二心集/习惯与改革.md\n",
      "已引入文章：article/二心集/以脚报国.md\n",
      "已引入文章：article/二心集/做古文和做好人的秘诀.md\n",
      "已引入文章：article/二心集/关于《唐三藏取经诗话》的版本.md\n",
      "已引入文章：article/二心集/关于小说题材的通信（并Ｙ及Ｔ来信）.md\n",
      "已引入文章：article/二心集/关于翻译的通信（并ＪＫ来信）.md\n",
      "已引入文章：article/二心集/再来一条“顺”的翻译.md\n",
      "已引入文章：article/二心集/几条“顺”的翻译.md\n",
      "已引入文章：article/二心集/唐朝的钉梢.md\n",
      "已引入文章：article/二心集/宣传与做戏.md\n",
      "已引入文章：article/二心集/对于左翼作家联盟的意见.md\n",
      "已引入文章：article/二心集/序言.md\n",
      "已引入文章：article/二心集/张资平氏的“小说学”.md\n",
      "已引入文章：article/二心集/我们要批评家.md\n",
      "已引入文章：article/二心集/新的“女将”.md\n",
      "已引入文章：article/二心集/柔石小传.md\n",
      "已引入文章：article/二心集/沉滓的泛起.md\n",
      "已引入文章：article/二心集/现代电影与有产阶级（译文，并附记）.md\n",
      "已引入文章：article/二心集/知难行难.md\n",
      "已引入文章：article/二心集/答中学生杂志社问.md\n",
      "已引入文章：article/二心集/答北斗杂志社问.md\n",
      "已引入文章：article/二心集/答文艺新闻社问.md\n",
      "已引入文章：article/二心集/非革命的急进革命论者.md\n",
      "已引入文章：article/二心集/风马牛.md\n",
      "已引入文章：article/二心集/黑暗中国的文艺界的现状.md\n",
      "已引入文章：article/华盖集/“公理”的把戏.md\n",
      "已引入文章：article/华盖集/“碰壁”之余.md\n",
      "已引入文章：article/华盖集/“碰壁”之后.md\n",
      "已引入文章：article/华盖集/北京通信.md\n",
      "已引入文章：article/华盖集/十四年的“读经”.md\n",
      "已引入文章：article/华盖集/后记.md\n",
      "已引入文章：article/华盖集/咬文嚼字.md\n",
      "已引入文章：article/华盖集/咬文嚼字2.md\n",
      "已引入文章：article/华盖集/夏三虫.md\n",
      "已引入文章：article/华盖集/导师.md\n",
      "已引入文章：article/华盖集/并非闲话.md\n",
      "已引入文章：article/华盖集/并非闲话（三）.md\n",
      "已引入文章：article/华盖集/并非闲话（二）.md\n",
      "已引入文章：article/华盖集/忽然想到1.md\n",
      "已引入文章：article/华盖集/忽然想到2.md\n",
      "已引入文章：article/华盖集/忽然想到3.md\n",
      "已引入文章：article/华盖集/忽然想到4.md\n",
      "已引入文章：article/华盖集/我的“籍”和“系”.md\n",
      "已引入文章：article/华盖集/我观北大.md\n",
      "已引入文章：article/华盖集/战士和苍蝇.md\n",
      "已引入文章：article/华盖集/杂感.md\n",
      "已引入文章：article/华盖集/牺牲谟.md\n",
      "已引入文章：article/华盖集/碎话.md\n",
      "已引入文章：article/华盖集/答KS君.md\n",
      "已引入文章：article/华盖集/补白.md\n",
      "已引入文章：article/华盖集/论辩的魂灵.md\n",
      "已引入文章：article/华盖集/评心雕龙.md\n",
      "已引入文章：article/华盖集/这个与那个.md\n",
      "已引入文章：article/华盖集/这回是“多数”的把戏.md\n",
      "已引入文章：article/华盖集/通讯.md\n",
      "已引入文章：article/华盖集/长城.md\n",
      "已引入文章：article/华盖集/青年必读书.md\n",
      "已引入文章：article/华盖集/题记.md\n",
      "已引入文章：article/华盖集续编/一点比喻.md\n",
      "已引入文章：article/华盖集续编/上海通信.md\n",
      "已引入文章：article/华盖集续编/不是信.md\n",
      "已引入文章：article/华盖集续编/为半农题记《何典》后作.md\n",
      "已引入文章：article/华盖集续编/再来一次.md\n",
      "已引入文章：article/华盖集续编/古书与白话.md\n",
      "已引入文章：article/华盖集续编/可惨与可笑.md\n",
      "已引入文章：article/华盖集续编/后记.md\n",
      "已引入文章：article/华盖集续编/如此“讨赤”.md\n",
      "已引入文章：article/华盖集续编/学界的三魂.md\n",
      "已引入文章：article/华盖集续编/小引.md\n",
      "已引入文章：article/华盖集续编/我还不能“带住”.md\n",
      "已引入文章：article/华盖集续编/新的蔷薇.md\n",
      "已引入文章：article/华盖集续编/无花的蔷薇.md\n",
      "已引入文章：article/华盖集续编/无花的蔷薇之三.md\n",
      "已引入文章：article/华盖集续编/无花的蔷薇之二.md\n",
      "已引入文章：article/华盖集续编/无题.md\n",
      "已引入文章：article/华盖集续编/有趣的消息.md\n",
      "已引入文章：article/华盖集续编/死地.md\n",
      "已引入文章：article/华盖集续编/空谈.md\n",
      "已引入文章：article/华盖集续编/记“发薪”.md\n",
      "已引入文章：article/华盖集续编/记念刘和珍君.md\n",
      "已引入文章：article/华盖集续编/记谈话.md\n",
      "已引入文章：article/华盖集续编/谈皇帝.md\n",
      "已引入文章：article/华盖集续编/送灶日漫笔.md\n",
      "已引入文章：article/华盖集续编/马上支日记.md\n",
      "已引入文章：article/华盖集续编/马上日记.md\n",
      "已引入文章：article/华盖集续编/马上日记之二.md\n",
      "已引入文章：article/华盖集续编的续编/《阿Q正传》的成因.md\n",
      "已引入文章：article/华盖集续编的续编/关于《三藏取经记》等.md\n",
      "已引入文章：article/华盖集续编的续编/厦门通信.md\n",
      "已引入文章：article/华盖集续编的续编/厦门通信（三）.md\n",
      "已引入文章：article/华盖集续编的续编/厦门通信（二）.md\n",
      "已引入文章：article/华盖集续编的续编/所谓“思想界先驱者”鲁迅启事.md\n",
      "已引入文章：article/华盖集续编的续编/海上通信.md\n",
      "已引入文章：article/呐喊/《呐喊》自序.md\n",
      "已引入文章：article/呐喊/一件小事.md\n",
      "已引入文章：article/呐喊/兔和猫.md\n",
      "已引入文章：article/呐喊/头发的故事.md\n",
      "已引入文章：article/呐喊/孔乙己.md\n",
      "已引入文章：article/呐喊/故乡.md\n",
      "已引入文章：article/呐喊/明天.md\n",
      "已引入文章：article/呐喊/狂人日记.md\n",
      "已引入文章：article/呐喊/白光.md\n",
      "已引入文章：article/呐喊/社戏.md\n",
      "已引入文章：article/呐喊/端午节.md\n",
      "已引入文章：article/呐喊/药.md\n",
      "已引入文章：article/呐喊/阿Ｑ正传.md\n",
      "已引入文章：article/呐喊/风波.md\n",
      "已引入文章：article/呐喊/鸭的喜剧.md\n",
      "已引入文章：article/坟/从胡须说到牙齿.md\n",
      "已引入文章：article/坟/再论雷峰塔的倒掉.md\n",
      "已引入文章：article/坟/写在《坟》后面.md\n",
      "已引入文章：article/坟/坚壁清野主义.md\n",
      "已引入文章：article/坟/娜拉走后怎样.md\n",
      "已引入文章：article/坟/寡妇主义.md\n",
      "已引入文章：article/坟/我之节烈观.md\n",
      "已引入文章：article/坟/我们怎样做父亲.md\n",
      "已引入文章：article/坟/春末闲谈.md\n",
      "已引入文章：article/坟/未有天才之前.md\n",
      "已引入文章：article/坟/杂亿.md\n",
      "已引入文章：article/坟/灯下漫笔.md\n",
      "已引入文章：article/坟/看镜有感.md\n",
      "已引入文章：article/坟/论“他妈的！”.md\n",
      "已引入文章：article/坟/论“费厄泼赖”应该缓行.md\n",
      "已引入文章：article/坟/论照相之类.md\n",
      "已引入文章：article/坟/论睁了眼看.md\n",
      "已引入文章：article/坟/论雷峰塔的倒掉.md\n",
      "已引入文章：article/坟/说胡须.md\n",
      "已引入文章：article/坟/题记.md\n",
      "已引入文章：article/彷徨/伤逝.md\n",
      "已引入文章：article/彷徨/在酒楼上.md\n",
      "已引入文章：article/彷徨/孤独者.md\n",
      "已引入文章：article/彷徨/幸福的家庭.md\n",
      "已引入文章：article/彷徨/弟兄.md\n",
      "已引入文章：article/彷徨/示众.md\n",
      "已引入文章：article/彷徨/祝福.md\n",
      "已引入文章：article/彷徨/离婚.md\n",
      "已引入文章：article/彷徨/肥皂.md\n",
      "已引入文章：article/彷徨/长明灯.md\n",
      "已引入文章：article/彷徨/高老夫子.md\n",
      "已引入文章：article/故事新编/出关.md\n",
      "已引入文章：article/故事新编/奔月.md\n",
      "已引入文章：article/故事新编/序言.md\n",
      "已引入文章：article/故事新编/理水.md\n",
      "已引入文章：article/故事新编/补天.md\n",
      "已引入文章：article/故事新编/起死.md\n",
      "已引入文章：article/故事新编/采薇.md\n",
      "已引入文章：article/故事新编/铸剑.md\n",
      "已引入文章：article/故事新编/非攻.md\n",
      "已引入文章：article/朝花夕拾/《朝花夕拾》小引.md\n",
      "已引入文章：article/朝花夕拾/二十四孝图.md\n",
      "已引入文章：article/朝花夕拾/五猖会.md\n",
      "已引入文章：article/朝花夕拾/从百草园到三味书屋.md\n",
      "已引入文章：article/朝花夕拾/后记.md\n",
      "已引入文章：article/朝花夕拾/无常.md\n",
      "已引入文章：article/朝花夕拾/父亲的病.md\n",
      "已引入文章：article/朝花夕拾/狗·猫·鼠.md\n",
      "已引入文章：article/朝花夕拾/琐记.md\n",
      "已引入文章：article/朝花夕拾/范爱农.md\n",
      "已引入文章：article/朝花夕拾/藤野先生.md\n",
      "已引入文章：article/朝花夕拾/阿长与山海经.md\n",
      "已引入文章：article/热风/“一是之学说”.md\n",
      "已引入文章：article/热风/“以震其艰深”.md\n",
      "已引入文章：article/热风/三十七.md\n",
      "已引入文章：article/热风/三十三.md\n",
      "已引入文章：article/热风/三十五.md\n",
      "已引入文章：article/热风/三十八.md\n",
      "已引入文章：article/热风/三十六.md\n",
      "已引入文章：article/热风/不懂的音译.md\n",
      "已引入文章：article/热风/为“俄国歌剧团”.md\n",
      "已引入文章：article/热风/事实胜于雄辩.md\n",
      "已引入文章：article/热风/五十七现在的屠杀者.md\n",
      "已引入文章：article/热风/五十三.md\n",
      "已引入文章：article/热风/五十九“圣武”.md\n",
      "已引入文章：article/热风/五十八人心很古.md\n",
      "已引入文章：article/热风/五十六“来了”.md\n",
      "已引入文章：article/热风/五十四.md\n",
      "已引入文章：article/热风/估《学衡》.md\n",
      "已引入文章：article/热风/儿歌的“反动”.md\n",
      "已引入文章：article/热风/六十一不满.md\n",
      "已引入文章：article/热风/六十三“与幼者”.md\n",
      "已引入文章：article/热风/六十二恨恨而死.md\n",
      "已引入文章：article/热风/六十五暴君的臣民.md\n",
      "已引入文章：article/热风/六十六生命的路.md\n",
      "已引入文章：article/热风/六十四有无相通.md\n",
      "已引入文章：article/热风/即小见大.md\n",
      "已引入文章：article/热风/反对“含泪”的批评家.md\n",
      "已引入文章：article/热风/四十.md\n",
      "已引入文章：article/热风/四十一.md\n",
      "已引入文章：article/热风/四十七.md\n",
      "已引入文章：article/热风/四十三.md\n",
      "已引入文章：article/热风/四十九.md\n",
      "已引入文章：article/热风/四十二.md\n",
      "已引入文章：article/热风/四十八.md\n",
      "已引入文章：article/热风/四十六.md\n",
      "已引入文章：article/热风/对于批评家的希望.md\n",
      "已引入文章：article/热风/所谓“国学”.md\n",
      "已引入文章：article/热风/无题.md\n",
      "已引入文章：article/热风/智识即罪恶.md\n",
      "已引入文章：article/热风/望勿“纠正”.md\n",
      "已引入文章：article/热风/随感录三十九.md\n",
      "已引入文章：article/热风/随感录二十五.md\n",
      "已引入文章：article/热风/题记.md\n",
      "已引入文章：article/而已集/“公理”之所在.md\n",
      "已引入文章：article/而已集/“意表之外”.md\n",
      "已引入文章：article/而已集/《尘影》题辞.md\n",
      "已引入文章：article/而已集/再谈香港.md\n",
      "已引入文章：article/而已集/写在《劳动问题》之前.md\n",
      "已引入文章：article/而已集/卢梭和胃口.md\n",
      "已引入文章：article/而已集/反“漫谈”.md\n",
      "已引入文章：article/而已集/可恶罪.md\n",
      "已引入文章：article/而已集/小杂感.md\n",
      "已引入文章：article/而已集/当陶元庆君的绘画展览时.md\n",
      "已引入文章：article/而已集/忧“天乳”.md\n",
      "已引入文章：article/而已集/扣丝杂感.md\n",
      "已引入文章：article/而已集/拟豫言.md\n",
      "已引入文章：article/而已集/文学和出汗.md\n",
      "已引入文章：article/而已集/文艺和革命.md\n",
      "已引入文章：article/而已集/新时代的放债法.md\n",
      "已引入文章：article/而已集/略论中国人的脸.md\n",
      "已引入文章：article/而已集/略谈香港.md\n",
      "已引入文章：article/而已集/答有恒先生.md\n",
      "已引入文章：article/而已集/读书杂谈.md\n",
      "已引入文章：article/而已集/谈“激烈”.md\n",
      "已引入文章：article/而已集/谈所谓“大内档案”.md\n",
      "已引入文章：article/而已集/辞“大义”.md\n",
      "已引入文章：article/而已集/通信.md\n",
      "已引入文章：article/而已集/附录：大衍发微.md\n",
      "已引入文章：article/而已集/革“首领”.md\n",
      "已引入文章：article/而已集/革命文学.md\n",
      "已引入文章：article/而已集/革命时代的文学.md\n",
      "已引入文章：article/而已集/题辞.md\n",
      "已引入文章：article/而已集/魏晋风度及文章与药及酒之关系.md\n",
      "已引入文章：article/而已集/黄花节的杂感.md\n",
      "已引入文章：article/野草/《野草》英文译本序.md\n",
      "已引入文章：article/野草/《野草》题辞.md\n",
      "已引入文章：article/野草/一觉.md\n",
      "已引入文章：article/野草/墓碣文.md\n",
      "已引入文章：article/野草/复仇.md\n",
      "已引入文章：article/野草/复仇〔其二〕.md\n",
      "已引入文章：article/野草/失掉的好地狱.md\n",
      "已引入文章：article/野草/好的故事.md\n",
      "已引入文章：article/野草/希望.md\n",
      "已引入文章：article/野草/影的告别.md\n",
      "已引入文章：article/野草/我的失恋.md\n",
      "已引入文章：article/野草/死后.md\n",
      "已引入文章：article/野草/死火.md\n",
      "已引入文章：article/野草/求乞者.md\n",
      "已引入文章：article/野草/淡淡的血痕中.md\n",
      "已引入文章：article/野草/狗的驳诘.md\n",
      "已引入文章：article/野草/秋夜.md\n",
      "已引入文章：article/野草/立论.md\n",
      "已引入文章：article/野草/聪明人和傻子和奴才.md\n",
      "已引入文章：article/野草/腊叶.md\n"
     ]
    },
    {
     "name": "stdout",
     "output_type": "stream",
     "text": [
      "已引入文章：article/野草/过客.md\n",
      "已引入文章：article/野草/这样的战士.md\n",
      "已引入文章：article/野草/雪.md\n",
      "已引入文章：article/野草/颓败线的颤动.md\n",
      "已引入文章：article/野草/风筝.md\n",
      "索引已建立好\n"
     ]
    }
   ],
   "source": [
    "from whoosh.filedb.filestore import FileStorage\n",
    "import re\n",
    "\n",
    "# Replace pattern\n",
    "rpp=re.compile('[\\u3000※·\\n\\r〔〕 ]')\n",
    "\n",
    "storage = FileStorage(ix_path)  #idx_path 为索引路径\n",
    "ix = storage.open_index(indexname=ix_name)\n",
    "# 按照schema定义信息，增加需要建立索引的文档\n",
    "# 注意：字符串格式需要为unicode格式\n",
    "with ix.writer() as w:\n",
    "    for article in articles:\n",
    "        with open(article,'r',encoding='utf-8') as f:\n",
    "            arr=f.read()\n",
    "        subs=re.split(rpp,arr)\n",
    "        art=''.join(subs)\n",
    "        length=len(art)\n",
    "        ind=art[::-1].find('〔１〕')\n",
    "        if ind>0:\n",
    "            art=art[:length-ind-1]\n",
    "            art=re.split('[\\d]',art)\n",
    "            art=''.join(art[1:])\n",
    "        name_arr=article.split('/')\n",
    "        w.add_document(title='集名：%s 篇名：%s'%(name_arr[1],name_arr[-1][:-3]),content=art)\n",
    "        print(\"已引入文章：%s\"%article)\n",
    "        \n",
    "ix.close()\n",
    "print(\"索引已建立好\")"
   ]
  },
  {
   "cell_type": "code",
   "execution_count": 6,
   "metadata": {},
   "outputs": [
    {
     "name": "stdout",
     "output_type": "stream",
     "text": [
      "请输入你要检索的文字：最普遍\n"
     ]
    },
    {
     "data": {
      "text/html": [
       "<h3>集名：三闲集 篇名：文艺与革命（并冬芬来信）</h3>"
      ],
      "text/plain": [
       "<IPython.core.display.HTML object>"
      ]
     },
     "metadata": {},
     "output_type": "display_data"
    },
    {
     "data": {
      "text/html": [
       "答案，是：“无论民众艺术如何地主张艺术的<b class=\"match term0\">普遍</b>性或平等性，但艺术作品...价值等差，这个事实是不可否认的。所谓<b class=\"match term0\">普遍</b>性啦，平等性啦这一类话，意思不外...玩味。艺术备有像这种意味的<b class=\"match term0\">普遍</b>性和平等性不待说是不可以否认"
      ],
      "text/plain": [
       "<IPython.core.display.HTML object>"
      ]
     },
     "metadata": {},
     "output_type": "display_data"
    },
    {
     "name": "stdout",
     "output_type": "stream",
     "text": [
      "相似度评分：8.47\n",
      "文章序号：20\n"
     ]
    },
    {
     "data": {
      "text/html": [
       "<h3>集名：坟 篇名：论照相之类</h3>"
      ],
      "text/plain": [
       "<IPython.core.display.HTML object>"
      ]
     },
     "metadata": {},
     "output_type": "display_data"
    },
    {
     "data": {
      "text/html": [
       "一张三人的合照，而且是铜板而已。我们中国的<b class=\"match term1\">最</b>伟大<b class=\"match term1\">最</b>永久的艺术是男人扮女人。异性大抵相爱。太监只能...无”字还不算什么语病。然而也就可见虽然<b class=\"match term1\">最</b>难放心，但是<b class=\"match term1\">最</b>可贵的是男人扮女人了，因为从两性看来，都近于异性...锤凿，调采色，弄墨水的人们跋扈。我们中国的<b class=\"match term1\">最</b>伟大<b class=\"match term1\">最</b>永久，而且<b class=\"match term2\">最普遍</b>的艺术也就是男人扮女人。一九二四年"
      ],
      "text/plain": [
       "<IPython.core.display.HTML object>"
      ]
     },
     "metadata": {},
     "output_type": "display_data"
    },
    {
     "name": "stdout",
     "output_type": "stream",
     "text": [
      "相似度评分：6.66\n",
      "文章序号：171\n"
     ]
    },
    {
     "data": {
      "text/html": [
       "<h3>集名：彷徨 篇名：幸福的家庭</h3>"
      ],
      "text/plain": [
       "<IPython.core.display.HTML object>"
      ]
     },
     "metadata": {},
     "output_type": "display_data"
    },
    {
     "data": {
      "text/html": [
       "他。为什么倒是中国菜？西洋人说，中国菜<b class=\"match term1\">最</b>进步，<b class=\"match term1\">最</b>好吃，最合于卫生８：所以他们采用中国菜。送来...出一种厌恶的情感，至少，也足以减少它们的<b class=\"match term0\">普遍</b>性。”６察哈尔指当时的察哈尔特别"
      ],
      "text/plain": [
       "<IPython.core.display.HTML object>"
      ]
     },
     "metadata": {},
     "output_type": "display_data"
    },
    {
     "name": "stdout",
     "output_type": "stream",
     "text": [
      "相似度评分：5.54\n",
      "文章序号：179\n"
     ]
    },
    {
     "data": {
      "text/html": [
       "<h3>集名：朝花夕拾 篇名：琐记</h3>"
      ],
      "text/plain": [
       "<IPython.core.display.HTML object>"
      ]
     },
     "metadata": {},
     "output_type": "display_data"
    },
    {
     "data": {
      "text/html": [
       "来，也决不去告诉各人的父母，因此我们就<b class=\"match term1\">最</b>愿意在她家里或她家的四近玩。举一个例说罢，冬天...雷电学堂出身的，可见螃蟹态度，在中国也颇<b class=\"match term0\">普遍</b>。可爱的是桅杆。但并非如“东邻”的“支那通”所说，因为"
      ],
      "text/plain": [
       "<IPython.core.display.HTML object>"
      ]
     },
     "metadata": {},
     "output_type": "display_data"
    },
    {
     "name": "stdout",
     "output_type": "stream",
     "text": [
      "相似度评分：5.51\n",
      "文章序号：204\n"
     ]
    },
    {
     "data": {
      "text/html": [
       "<h3>集名：华盖集 篇名：这个与那个</h3>"
      ],
      "text/plain": [
       "<IPython.core.display.HTML object>"
      ]
     },
     "metadata": {},
     "output_type": "display_data"
    },
    {
     "data": {
      "text/html": [
       "改变了，错字是加添了，甚至于连文章都删改了，<b class=\"match term1\">最</b>便当的是《琳琅秘室丛书》6中的两种《茅亭客话》7，一是宋本...结果是渐渐变成老官僚一样，动手刮地皮。<b class=\"match term1\">最</b>奇怪的是北几省的河道，竟捧得河身比屋顶...1898）期间，光绪帝于七月六日下诏<b class=\"match term0\">普遍</b>设立中小学，改书院为学堂；六月二十"
      ],
      "text/plain": [
       "<IPython.core.display.HTML object>"
      ]
     },
     "metadata": {},
     "output_type": "display_data"
    },
    {
     "name": "stdout",
     "output_type": "stream",
     "text": [
      "相似度评分：5.36\n",
      "文章序号：100\n"
     ]
    },
    {
     "data": {
      "text/html": [
       "<h3>集名：二心集 篇名：“硬译”与“文学的阶级性”</h3>"
      ],
      "text/plain": [
       "<IPython.core.display.HTML object>"
      ]
     },
     "metadata": {},
     "output_type": "display_data"
    },
    {
     "data": {
      "text/html": [
       "表现“人性”的“本身”的文学。倘以表现<b class=\"match term1\">最</b>普通的人性的文学为至高，则表现<b class=\"match term2\">最普遍</b>的动物性——营养，呼吸，运动，生殖——的文学...文学是有阶级性的吗？》：“文学的国土是<b class=\"match term1\">最</b>宽泛的，在根本上和在理论上没有国界，更没有阶级...他们都企求身心的愉快。文学就是表现这<b class=\"match term1\">最</b>基本的人性的艺术。无产阶级的生活的苦痛固然"
      ],
      "text/plain": [
       "<IPython.core.display.HTML object>"
      ]
     },
     "metadata": {},
     "output_type": "display_data"
    },
    {
     "name": "stdout",
     "output_type": "stream",
     "text": [
      "相似度评分：5.29\n",
      "文章序号：39\n"
     ]
    },
    {
     "data": {
      "text/html": [
       "<h3>集名：坟 篇名：论“费厄泼赖”应该缓行</h3>"
      ],
      "text/plain": [
       "<IPython.core.display.HTML object>"
      ]
     },
     "metadata": {},
     "output_type": "display_data"
    },
    {
     "data": {
      "text/html": [
       "以为此种精神在中国<b class=\"match term1\">最</b>不易得，我们只好努力鼓励；又谓不“打落水狗...不好，在中国却微嫌太早一样。所以倘有人要<b class=\"match term0\">普遍</b>施行“费厄泼赖”精神，我以为至少须俟所谓“落水...一文，其中说“‘费厄泼赖’精神在中国<b class=\"match term1\">最</b>不易得，我们也只好努力鼓励，中国‘泼赖’的精神就"
      ],
      "text/plain": [
       "<IPython.core.display.HTML object>"
      ]
     },
     "metadata": {},
     "output_type": "display_data"
    },
    {
     "name": "stdout",
     "output_type": "stream",
     "text": [
      "相似度评分：4.67\n",
      "文章序号：170\n"
     ]
    },
    {
     "data": {
      "text/html": [
       "<h3>集名：坟 篇名：我之节烈观</h3>"
      ],
      "text/plain": [
       "<IPython.core.display.HTML object>"
      ]
     },
     "metadata": {},
     "output_type": "display_data"
    },
    {
     "data": {
      "text/html": [
       "他胡说。４这几篇驳论，都是《新青年》５里<b class=\"match term1\">最</b>可寒心的文章。时候已是二十世纪...一错，补过无及，只好任其羞杀，也不值得说了。<b class=\"match term1\">最</b>要紧的，只在第三种，现在一经感化，他们...有两层：一问节烈是否道德？道德这事，必须<b class=\"match term0\">普遍</b>，人人应做，人人能行，又于自他两利，才有存在"
      ],
      "text/plain": [
       "<IPython.core.display.HTML object>"
      ]
     },
     "metadata": {},
     "output_type": "display_data"
    },
    {
     "name": "stdout",
     "output_type": "stream",
     "text": [
      "相似度评分：4.50\n",
      "文章序号：162\n"
     ]
    }
   ],
   "source": [
    "with storage.open_index(indexname=ix_name).searcher() as searcher:\n",
    "    # 检索标题中出现'文档'的文档\n",
    "    results = searcher.find(\"content\",input(\"请输入你要检索的文字：\"))\n",
    "    # 检索出来的第一个结果，数据格式为dict{'title':.., 'content':...}\n",
    "    for r in results:\n",
    "        display(HTML('<h3>'+r.get('title')+'</h3>'))\n",
    "        display(HTML(r.highlights(\"content\")))  \n",
    "        # 高亮标题中的检索词\n",
    "        print('相似度评分：%.2f'%r.score)  \n",
    "        # 准确度分数\n",
    "        print('文章序号：%d'%r.docnum)\n",
    "        \n",
    "        doc = r.fields()\n",
    "        jsondoc = json.dumps(doc, ensure_ascii=False)\n",
    "        # display(jsondoc)  \n",
    "        # 打印出检索出的文档全部内容\n"
   ]
  }
 ],
 "metadata": {
  "kernelspec": {
   "display_name": "Python 3",
   "language": "python",
   "name": "python3"
  },
  "language_info": {
   "codemirror_mode": {
    "name": "ipython",
    "version": 3
   },
   "file_extension": ".py",
   "mimetype": "text/x-python",
   "name": "python",
   "nbconvert_exporter": "python",
   "pygments_lexer": "ipython3",
   "version": "3.6.5"
  }
 },
 "nbformat": 4,
 "nbformat_minor": 2
}
